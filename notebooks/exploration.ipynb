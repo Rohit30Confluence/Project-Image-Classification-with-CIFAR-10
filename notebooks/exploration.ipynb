# Example code for visualization
import matplotlib.pyplot as plt
from src.data_preprocessing import load_and_preprocess_data

(X_train, y_train), (X_test, y_test) = load_and_preprocess_data()

# Visualizing some samples
plt.figure(figsize=(10, 10))
for i in range(9):
    plt.subplot(3, 3, i + 1)
    plt.imshow(X_train[i])
    plt.title(f'Label: {y_train[i][0]}')
    plt.axis('off')
plt.show()
